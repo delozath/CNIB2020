{
 "cells": [
  {
   "cell_type": "markdown",
   "metadata": {},
   "source": [
    "<center>\n",
    "<img src=\"caratula.png\" alt=\"drawing\" width=\"1200\"/>\n",
    "</center>"
   ]
  },
  {
   "cell_type": "markdown",
   "metadata": {},
   "source": [
    "<br><br><br><br>\n",
    "\n",
    "# Regresión Lineal"
   ]
  },
  {
   "cell_type": "code",
   "execution_count": null,
   "metadata": {},
   "outputs": [],
   "source": [
    "from IPython.display import IFrame\n",
    "IFrame('https://www.geogebra.org/classic/rhukgajc?embed', width=1400, height=600)"
   ]
  },
  {
   "cell_type": "markdown",
   "metadata": {},
   "source": [
    "<br><br>\n",
    "\n",
    "## Función\n",
    "\n",
    "$$ \\Large y = f(\\textbf{X}, \\theta):$$\n",
    "\n",
    "$$ \\Large \\textbf{X}\\in\\mathbb{R}^n,\\,\\, y\\in\\mathbb{R} ,  $$\n",
    "\n",
    "$$ \\Large \\theta    \\in\\mathbb{R}^k. $$ "
   ]
  },
  {
   "cell_type": "markdown",
   "metadata": {},
   "source": [
    "## Minimizar el error cuadrático medio\n",
    "\n",
    "$$ \\Large \\mathcal{L}(\\textbf{X},y,\\theta)=\\min_{\\theta} \\sum_{i=1}^M ( \\theta_1 x_i + \\theta_0 - y_i )^2$$"
   ]
  },
  {
   "cell_type": "markdown",
   "metadata": {},
   "source": [
    "## Pseudoinversa\n",
    "\n",
    "$$ \\Large \\theta=\\left( \\hat{\\textbf{X}}^T\\hat{\\textbf{X}} \\right)^{-1}\\hat{\\textbf{X}}^Ty$$"
   ]
  },
  {
   "cell_type": "markdown",
   "metadata": {},
   "source": [
    "### donde\n",
    "$$ \\Large \\hat{\\textbf{X}} = \n",
    "    \\begin{pmatrix}\n",
    "      x_{1,1}& x_{1,2} & \\cdots & x_{1,N}& 1\\\\\n",
    "      x_{2,1}& x_{2,2} & \\cdots & x_{2,N}& 1\\\\\n",
    "      \\vdots &         & \\ddots &        & \\vdots\\\\\n",
    "      x_{M,1}& x_{M,2} & \\cdots & x_{M,N}& 1\\\\\n",
    "    \\end{pmatrix} $$"
   ]
  },
  {
   "cell_type": "markdown",
   "metadata": {},
   "source": [
    "## Regresión Lineal $\\rightarrow$ Clasificador"
   ]
  },
  {
   "cell_type": "code",
   "execution_count": null,
   "metadata": {},
   "outputs": [],
   "source": [
    "IFrame('https://www.geogebra.org/classic/wqhdtz6v?embed', width=1400, height=600)"
   ]
  },
  {
   "cell_type": "markdown",
   "metadata": {},
   "source": [
    "# Decisión"
   ]
  },
  {
   "cell_type": "code",
   "execution_count": null,
   "metadata": {},
   "outputs": [],
   "source": [
    "IFrame('https://www.geogebra.org/classic/ertr6snf?embed', width=1400, height=600)"
   ]
  },
  {
   "cell_type": "markdown",
   "metadata": {},
   "source": [
    "# Umbral óptimo"
   ]
  },
  {
   "cell_type": "code",
   "execution_count": null,
   "metadata": {},
   "outputs": [],
   "source": [
    "IFrame('https://www.geogebra.org/classic/aj8xcpxa?embed', width=1400, height=600)"
   ]
  },
  {
   "cell_type": "code",
   "execution_count": null,
   "metadata": {
    "scrolled": true
   },
   "outputs": [],
   "source": [
    "import pdb\n",
    "\n",
    "import numpy   as np\n",
    "import pandas  as pd\n",
    "import seaborn as sns; sns.set(style=\"ticks\", palette=\"pastel\")\n",
    "\n",
    "from matplotlib           import pyplot as plt\n",
    "from mpl_toolkits.mplot3d import Axes3D\n",
    "\n",
    "plt.style.use({  'figure.figsize'    :(12,4),\n",
    "                 'axes.titlesize'    :20,\n",
    "                 'axes.titleweight'  :True,\n",
    "                 'lines.markersize'  :14,\n",
    "                 'axes.grid'         :True,\n",
    "                 'axes.labelsize'    :16,\n",
    "                 'xtick.labelsize'   :14,\n",
    "                 'xtick.major.width' :True,\n",
    "                 'ytick.labelsize'   :14,\n",
    "                 'ytick.major.width' :True, \n",
    "                 'lines.linewidth'   :2.5   })\n",
    "\n",
    "def pseudo_inv (X: np.array, Y: np.array)->np.array:\n",
    "    \"\"\"\n",
    "      Compute the pseudoinverse matrix for regression/classification\n",
    "        -> pinv = (X^T X)^-1 X^T y\n",
    "        \n",
    "      @param X: -> shape = (n_samples,k_features)\n",
    "      @param Y: -> shape = (n_samples,1)\n",
    "      \n",
    "      @return pinv: -> shape = (k_features,1)\n",
    "    \"\"\"\n",
    "    pinv = X.T  @ X            #np.dot( X.T,X )\n",
    "    pinv = np.linalg.inv(pinv)\n",
    "    pinv = pinv @ X.T          #np.dot( pinv,X.T )\n",
    "    pinv = pinv @ Y            #np.dot( pinv,Y   )\n",
    "    \n",
    "    return pinv\n",
    "\n",
    "def extend_x(X: np.array)->np.array:\n",
    "    \"\"\"\n",
    "      Appends a colum of ones to the X matrix\n",
    "        -> X_ex = [X Ones]\n",
    "      \n",
    "      @param X: -> shape = (n_samples,k_features)\n",
    "      \n",
    "      @return X_ex: -> shape = (n_samples,k_features+1)\n",
    "    \"\"\"\n",
    "    ones = np.ones( X.shape[0] )[:,np.newaxis]\n",
    "    \n",
    "    return np.concatenate( (X,ones), axis=-1 ).copy()"
   ]
  },
  {
   "cell_type": "markdown",
   "metadata": {},
   "source": [
    "# Ejemplo Toy"
   ]
  },
  {
   "cell_type": "code",
   "execution_count": null,
   "metadata": {},
   "outputs": [],
   "source": [
    "data = np.array( [[1.9, 1],\n",
    "                  [0.7, 1],\n",
    "                  [2.0, 0],\n",
    "                  [2.3, 0],\n",
    "                  [3.0, 0],\n",
    "                  [2.1, 1],\n",
    "                  [1.8, 0],\n",
    "                  [1.1, 1] ])\n",
    "\n",
    "mask = data[:,1]==1\n",
    "plt.plot( data[ mask,0],data[ mask,1],'o',color='darkblue', )\n",
    "plt.plot( data[~mask,0],data[~mask,1],'o',color='orange' )\n",
    "plt.show()"
   ]
  },
  {
   "cell_type": "code",
   "execution_count": null,
   "metadata": {},
   "outputs": [],
   "source": [
    "X_Train, Y_Train = data[:,0:1], data[:,1:2]\n",
    "\n",
    "W = pseudo_inv( extend_x( X_Train ),Y_Train  )\n",
    "W"
   ]
  },
  {
   "cell_type": "code",
   "execution_count": null,
   "metadata": {},
   "outputs": [],
   "source": [
    "y = np.dot(  extend_x( X_Train ),W  )\n",
    "plt.plot( X_Train,y )\n",
    "\n",
    "mask = Y_Train == 0\n",
    "plt.plot( X_Train[ mask],Y_Train[ mask],'o',color='darkblue' )\n",
    "plt.plot( X_Train[~mask],Y_Train[~mask],'o',color='orange' )\n",
    "plt.show()"
   ]
  },
  {
   "cell_type": "markdown",
   "metadata": {},
   "source": [
    "# Ejemplo 2D"
   ]
  },
  {
   "cell_type": "code",
   "execution_count": null,
   "metadata": {
    "scrolled": true
   },
   "outputs": [],
   "source": [
    "import os\n",
    "\n",
    "params                     = {}\n",
    "PATH                       = os.path.abspath('./') + '/'\n",
    "params['fname_uninormals'] = 'CNIB 2020 TWO UNIV NORMALS 2.csv'"
   ]
  },
  {
   "cell_type": "code",
   "execution_count": null,
   "metadata": {},
   "outputs": [],
   "source": [
    "#Leer CSV\n",
    "data  = pd.read_csv( PATH+params['fname_uninormals'] )\n",
    "\n",
    "#Graficar:\n",
    "y     = np.zeros( data.shape[0] )\n",
    "sns.scatterplot( x='X', y=y, hue='Y', data=data,\n",
    "                  palette =['forestgreen','darkblue'],\n",
    "                  s       =400,\n",
    "                  alpha   =.8)\n",
    "plt.show()"
   ]
  },
  {
   "cell_type": "code",
   "execution_count": null,
   "metadata": {
    "scrolled": true
   },
   "outputs": [],
   "source": [
    "#Importante\n",
    "def data_split( data,N ):\n",
    "    \n",
    "    P     = data.shape[0]-N\n",
    "    index = np.arange( data.shape[0] ); np.random.shuffle(index)\n",
    "    \n",
    "    Train = data.iloc[index[  :N]]\n",
    "    Test  = data.iloc[index[-P: ]]\n",
    "    \n",
    "    return Train, Test"
   ]
  },
  {
   "cell_type": "code",
   "execution_count": null,
   "metadata": {
    "scrolled": true
   },
   "outputs": [],
   "source": [
    "N     = 30\n",
    "\n",
    "Train, Test = data_split( data,N )"
   ]
  },
  {
   "cell_type": "code",
   "execution_count": null,
   "metadata": {},
   "outputs": [],
   "source": [
    "sns.scatterplot( x='X', y='Y', hue='Y', data=Train,\n",
    "                  palette =['forestgreen','darkblue'],\n",
    "                  s       =400,\n",
    "                  alpha   =.8)\n",
    "\n",
    "sns.scatterplot( x='X', y='Y', hue='Y', data=Test,\n",
    "                  palette =['gold','mediumpurple'],\n",
    "                  s       =200,\n",
    "                  alpha   =.6)\n",
    "plt.show()"
   ]
  },
  {
   "cell_type": "code",
   "execution_count": null,
   "metadata": {
    "scrolled": true
   },
   "outputs": [],
   "source": [
    "Train.Y[:10]"
   ]
  },
  {
   "cell_type": "code",
   "execution_count": null,
   "metadata": {
    "scrolled": true
   },
   "outputs": [],
   "source": [
    "X_Train = extend_x( Train.X.values[:,np.newaxis] )\n",
    "X_Train[:10]"
   ]
  },
  {
   "cell_type": "code",
   "execution_count": null,
   "metadata": {
    "scrolled": true
   },
   "outputs": [],
   "source": [
    "Y_Train = Train.Y.values[:,np.newaxis]\n",
    "Y_Train[:10]"
   ]
  },
  {
   "cell_type": "code",
   "execution_count": null,
   "metadata": {
    "scrolled": true
   },
   "outputs": [],
   "source": [
    "W = pseudo_inv(X_Train,Y_Train)\n",
    "W"
   ]
  },
  {
   "cell_type": "code",
   "execution_count": null,
   "metadata": {
    "scrolled": true
   },
   "outputs": [],
   "source": [
    "X_Test = extend_x( Test.X.values[:,np.newaxis] )\n",
    "Y_Test = Test.Y.values[:,np.newaxis]"
   ]
  },
  {
   "cell_type": "code",
   "execution_count": null,
   "metadata": {
    "scrolled": true
   },
   "outputs": [],
   "source": [
    "L = X_Test @ W\n",
    "L"
   ]
  },
  {
   "cell_type": "code",
   "execution_count": null,
   "metadata": {
    "scrolled": true
   },
   "outputs": [],
   "source": [
    "L = 2*(L>0.)-1   # 2*(  (X_Test @ W)  < 0.5  ) - 1"
   ]
  },
  {
   "cell_type": "code",
   "execution_count": null,
   "metadata": {
    "scrolled": true
   },
   "outputs": [],
   "source": [
    "def compare(Y, L, ticks=True):\n",
    "    if ticks:\n",
    "        for i,j in zip(Y,L):\n",
    "            res = [i[0], j[0]]\n",
    "            if res[0] == res[1]:\n",
    "                res += [u\"✓\"]\n",
    "            else:\n",
    "                res += [u\"✘\"]\n",
    "            \n",
    "            print( \"{:4.1f}, {:4.1f}, {}\".format(*res) )\n",
    "    \n",
    "    plt.pcolormesh(L==Y,cmap='cool')"
   ]
  },
  {
   "cell_type": "code",
   "execution_count": null,
   "metadata": {},
   "outputs": [],
   "source": [
    "compare(Y_Test, L)"
   ]
  },
  {
   "cell_type": "markdown",
   "metadata": {},
   "source": [
    "# Ejemplo 2D $\\rightarrow$ ver script "
   ]
  },
  {
   "cell_type": "code",
   "execution_count": null,
   "metadata": {
    "scrolled": true
   },
   "outputs": [],
   "source": [
    "params['fname_binormals'] = 'CNIB 2020 TWO BIV NORMALS.csv'\n",
    "\n",
    "data = pd.read_csv( PATH+params['fname_binormals'] )\n",
    "\n",
    "data['Y'] = data['Y'].astype('int')"
   ]
  },
  {
   "cell_type": "code",
   "execution_count": null,
   "metadata": {},
   "outputs": [],
   "source": [
    "#Graficar\n",
    "sns.scatterplot(x='X_1', y='X_2',hue='Y',data=data)\n",
    "sum(data.Y<1)"
   ]
  },
  {
   "cell_type": "code",
   "execution_count": null,
   "metadata": {
    "scrolled": true
   },
   "outputs": [],
   "source": [
    "N     = 300\n",
    "\n",
    "Train, Test = data_split( data,N )"
   ]
  },
  {
   "cell_type": "code",
   "execution_count": null,
   "metadata": {},
   "outputs": [],
   "source": [
    "X_Train = Train.loc[:,['X_1','X_2']].values\n",
    "Y_Train = Train.Y                   .values [:,np.newaxis]\n",
    "\n",
    "W = pseudo_inv( extend_x(X_Train),Y_Train )\n",
    "W"
   ]
  },
  {
   "cell_type": "code",
   "execution_count": null,
   "metadata": {
    "scrolled": true
   },
   "outputs": [],
   "source": [
    "X_Test = extend_x( Test.loc[:,['X_1','X_2']].values )\n",
    "Y_Test =           Test.Y                   .values[:,np.newaxis]"
   ]
  },
  {
   "cell_type": "code",
   "execution_count": null,
   "metadata": {},
   "outputs": [],
   "source": [
    "L = X_Test @ W\n",
    "L = 2*(L>0)-1\n",
    "\n",
    "compare(Y_Test, L, False)"
   ]
  },
  {
   "cell_type": "markdown",
   "metadata": {},
   "source": [
    "# Aplicaciones"
   ]
  },
  {
   "cell_type": "code",
   "execution_count": null,
   "metadata": {},
   "outputs": [],
   "source": [
    "IFrame('https://www.youtube.com/embed/nW5AOUbvmFE', width=1400, height=600)"
   ]
  },
  {
   "cell_type": "markdown",
   "metadata": {},
   "source": [
    "<br><br><br>\n",
    "# Scenario Screen\n",
    "<center>\n",
    "<img src=\"scenario_screen.png\" alt=\"drawing\" width=\"800\"/>\n",
    "</center>"
   ]
  },
  {
   "cell_type": "markdown",
   "metadata": {},
   "source": [
    "<br><br><br><br><br>\n",
    "\n",
    "# ¿Hay otros clasificadores basados en la regresión lineal?\n",
    "\n",
    "## Least Absolute Shrinkage Selector Operator LASSO:\n",
    "$$\\Large \\mathcal{L}(\\textbf{X},y,\\theta)=\\min_{\\theta} \\left( \\sum_{i=1}^M ( \\theta^T x_i + \\theta_0 - y_i )^2 -  \\lambda\\sum_{j=0}^M \\left|\\theta_j\\right| \\right)$$\n",
    "\n",
    "## Ridge Regression:\n",
    "$$\\Large \\mathcal{L}(\\textbf{X},y,\\theta)=\\min_{\\theta} \\left( \\sum_{i=1}^M ( \\theta^T x_i + \\theta_0 - y_i )^2 -  \\lambda\\sum_{j=0}^M \\left(\\theta_j\\right)^2 \\right)$$"
   ]
  },
  {
   "cell_type": "markdown",
   "metadata": {},
   "source": [
    "<br><br><br><br><br><br>\n",
    "<center>\n",
    "<img src=\"caratula.png\" alt=\"drawing\" width=\"800\"/>\n",
    "</center>"
   ]
  },
  {
   "cell_type": "markdown",
   "metadata": {},
   "source": [
    "# [https://www.researchgate.net/profile/Omar_Pina-Ramirez](https://www.researchgate.net/profile/Omar_Pina-Ramirez)\n",
    "# [https://github.com/delozath/](https://github.com/delozath/)"
   ]
  }
 ],
 "metadata": {
  "kernelspec": {
   "display_name": "Python 3",
   "language": "python",
   "name": "python3"
  },
  "language_info": {
   "codemirror_mode": {
    "name": "ipython",
    "version": 3
   },
   "file_extension": ".py",
   "mimetype": "text/x-python",
   "name": "python",
   "nbconvert_exporter": "python",
   "pygments_lexer": "ipython3",
   "version": "3.8.5"
  }
 },
 "nbformat": 4,
 "nbformat_minor": 4
}
